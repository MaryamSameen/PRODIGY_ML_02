{
  "nbformat": 4,
  "nbformat_minor": 0,
  "metadata": {
    "colab": {
      "provenance": []
    },
    "kernelspec": {
      "name": "python3",
      "display_name": "Python 3"
    },
    "language_info": {
      "name": "python"
    }
  },
  "cells": [
    {
      "cell_type": "code",
      "execution_count": 1,
      "metadata": {
        "colab": {
          "base_uri": "https://localhost:8080/"
        },
        "id": "vx-1pCh1iFz1",
        "outputId": "36a835fb-7a29-4357-fa74-33f9c78f60e4"
      },
      "outputs": [
        {
          "output_type": "stream",
          "name": "stdout",
          "text": [
            "<class 'pandas.core.frame.DataFrame'>\n",
            "RangeIndex: 200 entries, 0 to 199\n",
            "Data columns (total 5 columns):\n",
            " #   Column                  Non-Null Count  Dtype \n",
            "---  ------                  --------------  ----- \n",
            " 0   CustomerID              200 non-null    int64 \n",
            " 1   Gender                  200 non-null    object\n",
            " 2   Age                     200 non-null    int64 \n",
            " 3   Annual Income (k$)      200 non-null    int64 \n",
            " 4   Spending Score (1-100)  200 non-null    int64 \n",
            "dtypes: int64(4), object(1)\n",
            "memory usage: 7.9+ KB\n",
            "None\n",
            "   CustomerID  Gender  Age  Annual Income (k$)  Spending Score (1-100)\n",
            "0           1    Male   19                  15                      39\n",
            "1           2    Male   21                  15                      81\n",
            "2           3  Female   20                  16                       6\n",
            "3           4  Female   23                  16                      77\n",
            "4           5  Female   31                  17                      40\n"
          ]
        },
        {
          "output_type": "stream",
          "name": "stderr",
          "text": [
            "/usr/local/lib/python3.10/dist-packages/sklearn/cluster/_kmeans.py:1416: FutureWarning: The default value of `n_init` will change from 10 to 'auto' in 1.4. Set the value of `n_init` explicitly to suppress the warning\n",
            "  super()._check_params_vs_input(X, default_n_init=10)\n"
          ]
        },
        {
          "output_type": "stream",
          "name": "stdout",
          "text": [
            "               Age  Annual Income (k$)  Spending Score (1-100)\n",
            "Cluster                                                       \n",
            "0        53.661538           47.600000               40.446154\n",
            "1        32.875000           86.100000               81.525000\n",
            "2        25.438596           40.000000               60.298246\n",
            "3        39.921053           86.684211               18.763158\n",
            "Silhouette Score: 0.3194701864060389\n"
          ]
        }
      ],
      "source": [
        "import pandas as pd\n",
        "from sklearn.preprocessing import StandardScaler, OneHotEncoder\n",
        "from sklearn.compose import ColumnTransformer\n",
        "from sklearn.pipeline import Pipeline\n",
        "from sklearn.cluster import KMeans\n",
        "import matplotlib.pyplot as plt\n",
        "from sklearn.metrics import silhouette_score\n",
        "\n",
        "# Load the dataset\n",
        "url = '/content/Mall_Customers.csv'\n",
        "df = pd.read_csv(url)\n",
        "\n",
        "# Display basic info about the dataset\n",
        "print(df.info())\n",
        "print(df.head())\n",
        "\n",
        "# Identify categorical columns (assuming 'Gender' as an example, update based on your dataset)\n",
        "categorical_features = ['Gender']  # Replace with actual categorical columns\n",
        "numeric_features = df.select_dtypes(include=['int64', 'float64']).columns.tolist()\n",
        "numeric_features = [col for col in numeric_features if col not in ['CustomerID']]\n",
        "\n",
        "# Preprocess the data\n",
        "df = df.drop(['CustomerID'], axis=1, errors='ignore')  # Drop 'CustomerID' if present\n",
        "\n",
        "# Create preprocessing pipelines\n",
        "preprocessor = ColumnTransformer(\n",
        "    transformers=[\n",
        "        ('num', StandardScaler(), numeric_features),\n",
        "        ('cat', OneHotEncoder(), categorical_features)\n",
        "    ])\n",
        "\n",
        "# Apply preprocessing and fit K-means\n",
        "pipeline = Pipeline(steps=[('preprocessor', preprocessor),\n",
        "                           ('cluster', KMeans(n_clusters=4, random_state=42))])\n",
        "\n",
        "# Fit the pipeline to the data\n",
        "df_transformed = preprocessor.fit_transform(df) # Transform the data using the preprocessor\n",
        "cluster_labels = pipeline.named_steps['cluster'].fit_predict(df_transformed) # Fit KMeans on the transformed data\n",
        "\n",
        "# Add cluster labels to the original DataFrame\n",
        "df['Cluster'] = cluster_labels\n",
        "\n",
        "# Analyze the clusters (Calculate the mean for numerical columns only)\n",
        "print(df.groupby('Cluster')[numeric_features].mean())\n",
        "\n",
        "# Optional: Calculate the silhouette score\n",
        "silhouette_avg = silhouette_score(df_transformed, df['Cluster'])\n",
        "print(f'Silhouette Score: {silhouette_avg}')"
      ]
    }
  ]
}